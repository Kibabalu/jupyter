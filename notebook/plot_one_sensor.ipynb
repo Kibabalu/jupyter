{
 "cells": [
  {
   "cell_type": "code",
   "execution_count": 1,
   "metadata": {
    "collapsed": false
   },
   "outputs": [],
   "source": [
    "import datetime\n",
    "import requests\n",
    "import pandas as pd\n",
    "from io import StringIO\n",
    "import matplotlib.pyplot as plt\n",
    "%matplotlib inline"
   ]
  },
  {
   "cell_type": "code",
   "execution_count": 2,
   "metadata": {
    "collapsed": true
   },
   "outputs": [],
   "source": [
    "ndays = 7\n",
    "sensor_id = 36"
   ]
  },
  {
   "cell_type": "code",
   "execution_count": 3,
   "metadata": {
    "collapsed": false
   },
   "outputs": [
    {
     "name": "stdout",
     "output_type": "stream",
     "text": [
      "http://archive.madflex.de/2016-01-06/2016-01-06_ppd42ns_sensor_36.csv\n",
      "http://archive.madflex.de/2016-01-05/2016-01-05_ppd42ns_sensor_36.csv\n",
      "http://archive.madflex.de/2016-01-04/2016-01-04_ppd42ns_sensor_36.csv\n",
      "http://archive.madflex.de/2016-01-03/2016-01-03_ppd42ns_sensor_36.csv\n",
      "http://archive.madflex.de/2016-01-02/2016-01-02_ppd42ns_sensor_36.csv\n",
      "http://archive.madflex.de/2016-01-01/2016-01-01_ppd42ns_sensor_36.csv\n",
      "http://archive.madflex.de/2015-12-31/2015-12-31_ppd42ns_sensor_36.csv\n"
     ]
    }
   ],
   "source": [
    "data = pd.DataFrame()\n",
    "ldate = datetime.date.today() - datetime.timedelta(1)\n",
    "for x in range(ndays):\n",
    "    dt = str(ldate - datetime.timedelta(x))\n",
    "    url = \"http://archive.madflex.de/{dt}/{dt}_ppd42ns_sensor_{sensor_id}.csv\".format(dt=dt, sensor_id=sensor_id)\n",
    "    print(url)\n",
    "    r = requests.get(url)\n",
    "    data = data.append(pd.read_csv(StringIO(r.text), delimiter=';'))"
   ]
  },
  {
   "cell_type": "code",
   "execution_count": 4,
   "metadata": {
    "collapsed": false
   },
   "outputs": [
    {
     "data": {
      "text/html": [
       "<div>\n",
       "<table border=\"1\" class=\"dataframe\">\n",
       "  <thead>\n",
       "    <tr style=\"text-align: right;\">\n",
       "      <th></th>\n",
       "      <th>sensor_id</th>\n",
       "      <th>sensor_type</th>\n",
       "      <th>location</th>\n",
       "      <th>lat</th>\n",
       "      <th>lon</th>\n",
       "      <th>timestamp</th>\n",
       "      <th>P1</th>\n",
       "      <th>durP1</th>\n",
       "      <th>ratioP1</th>\n",
       "      <th>P2</th>\n",
       "      <th>durP2</th>\n",
       "      <th>ratioP2</th>\n",
       "    </tr>\n",
       "  </thead>\n",
       "  <tbody>\n",
       "    <tr>\n",
       "      <th>0</th>\n",
       "      <td>36</td>\n",
       "      <td>PPD42NS</td>\n",
       "      <td>23</td>\n",
       "      <td>NaN</td>\n",
       "      <td>NaN</td>\n",
       "      <td>2016-01-06T00:00:20.118244+00:00</td>\n",
       "      <td>66.61</td>\n",
       "      <td>38108</td>\n",
       "      <td>0.12</td>\n",
       "      <td>0.62</td>\n",
       "      <td>38108</td>\n",
       "      <td>0</td>\n",
       "    </tr>\n",
       "    <tr>\n",
       "      <th>1</th>\n",
       "      <td>36</td>\n",
       "      <td>PPD42NS</td>\n",
       "      <td>23</td>\n",
       "      <td>NaN</td>\n",
       "      <td>NaN</td>\n",
       "      <td>2016-01-06T00:00:50.418432+00:00</td>\n",
       "      <td>135.30</td>\n",
       "      <td>77684</td>\n",
       "      <td>0.25</td>\n",
       "      <td>0.62</td>\n",
       "      <td>77684</td>\n",
       "      <td>0</td>\n",
       "    </tr>\n",
       "    <tr>\n",
       "      <th>2</th>\n",
       "      <td>36</td>\n",
       "      <td>PPD42NS</td>\n",
       "      <td>23</td>\n",
       "      <td>NaN</td>\n",
       "      <td>NaN</td>\n",
       "      <td>2016-01-06T00:01:20.733310+00:00</td>\n",
       "      <td>13.00</td>\n",
       "      <td>7145</td>\n",
       "      <td>0.20</td>\n",
       "      <td>0.62</td>\n",
       "      <td>7145</td>\n",
       "      <td>0</td>\n",
       "    </tr>\n",
       "  </tbody>\n",
       "</table>\n",
       "</div>"
      ],
      "text/plain": [
       "   sensor_id sensor_type  location  lat  lon  \\\n",
       "0         36     PPD42NS        23  NaN  NaN   \n",
       "1         36     PPD42NS        23  NaN  NaN   \n",
       "2         36     PPD42NS        23  NaN  NaN   \n",
       "\n",
       "                          timestamp      P1  durP1  ratioP1    P2  durP2  \\\n",
       "0  2016-01-06T00:00:20.118244+00:00   66.61  38108     0.12  0.62  38108   \n",
       "1  2016-01-06T00:00:50.418432+00:00  135.30  77684     0.25  0.62  77684   \n",
       "2  2016-01-06T00:01:20.733310+00:00   13.00   7145     0.20  0.62   7145   \n",
       "\n",
       "   ratioP2  \n",
       "0        0  \n",
       "1        0  \n",
       "2        0  "
      ]
     },
     "execution_count": 4,
     "metadata": {},
     "output_type": "execute_result"
    }
   ],
   "source": [
    "data[:3]"
   ]
  },
  {
   "cell_type": "code",
   "execution_count": 5,
   "metadata": {
    "collapsed": false
   },
   "outputs": [],
   "source": [
    "plt.rcParams['figure.figsize'] = (10.0, 8.0)"
   ]
  },
  {
   "cell_type": "code",
   "execution_count": 6,
   "metadata": {
    "collapsed": false
   },
   "outputs": [],
   "source": [
    "data['dt'] = data.apply(lambda row: datetime.datetime.strptime(row.timestamp[:-6], \"%Y-%m-%dT%H:%M:%S.%f\"),axis=1)"
   ]
  },
  {
   "cell_type": "code",
   "execution_count": 7,
   "metadata": {
    "collapsed": false
   },
   "outputs": [
    {
     "data": {
      "text/plain": [
       "[<matplotlib.lines.Line2D at 0x7ff217acf898>]"
      ]
     },
     "execution_count": 7,
     "metadata": {},
     "output_type": "execute_result"
    },
    {
     "data": {
      "image/png": "[encoded data removed]",
      "text/plain": [
       "<matplotlib.figure.Figure at 0x7ff240132278>"
      ]
     },
     "metadata": {},
     "output_type": "display_data"
    }
   ],
   "source": [
    "plt.plot(data.dt, data.P2, '.')"
   ]
  },
  {
   "cell_type": "code",
   "execution_count": 8,
   "metadata": {
    "collapsed": false
   },
   "outputs": [
    {
     "data": {
      "text/plain": [
       "[<matplotlib.lines.Line2D at 0x7ff217e619b0>]"
      ]
     },
     "execution_count": 8,
     "metadata": {},
     "output_type": "execute_result"
    },
    {
     "data": {
      "image/png": "[encoded data removed]",
      "text/plain": [
       "<matplotlib.figure.Figure at 0x7ff240132128>"
      ]
     },
     "metadata": {},
     "output_type": "display_data"
    }
   ],
   "source": [
    "plt.plot(data.dt, data.P1, '.')"
   ]
  },
  {
   "cell_type": "code",
   "execution_count": null,
   "metadata": {
    "collapsed": true
   },
   "outputs": [],
   "source": []
  }
 ],
 "metadata": {
  "kernelspec": {
   "display_name": "Python 3",
   "language": "python",
   "name": "python3"
  },
  "language_info": {
   "codemirror_mode": {
    "name": "ipython",
    "version": 3
   },
   "file_extension": ".py",
   "mimetype": "text/x-python",
   "name": "python",
   "nbconvert_exporter": "python",
   "pygments_lexer": "ipython3",
   "version": "3.4.3"
  }
 },
 "nbformat": 4,
 "nbformat_minor": 0
}

{
 "cells": [
  {
   "cell_type": "code",
   "execution_count": 1,
   "metadata": {
    "collapsed": false
   },
   "outputs": [],
   "source": [
    "import datetime\n",
    "import requests\n",
    "import pandas as pd\n",
    "from io import StringIO\n",
    "import matplotlib.pyplot as plt\n",
    "%matplotlib inline"
   ]
  },
  {
   "cell_type": "code",
   "execution_count": 2,
   "metadata": {
    "collapsed": true
   },
   "outputs": [],
   "source": [
    "ndays = 7\n",
    "sensor_id = 61"
   ]
  },
  {
   "cell_type": "code",
   "execution_count": 3,
   "metadata": {
    "collapsed": false
   },
   "outputs": [
    {
     "name": "stdout",
     "output_type": "stream",
     "text": [
      "http://archive.madflex.de/2016-01-06/2016-01-06_ppd42ns_sensor_61.csv\n",
      "http://archive.madflex.de/2016-01-05/2016-01-05_ppd42ns_sensor_61.csv\n",
      "http://archive.madflex.de/2016-01-04/2016-01-04_ppd42ns_sensor_61.csv\n",
      "http://archive.madflex.de/2016-01-03/2016-01-03_ppd42ns_sensor_61.csv\n",
      "http://archive.madflex.de/2016-01-02/2016-01-02_ppd42ns_sensor_61.csv\n",
      "http://archive.madflex.de/2016-01-01/2016-01-01_ppd42ns_sensor_61.csv\n",
      "http://archive.madflex.de/2015-12-31/2015-12-31_ppd42ns_sensor_61.csv\n"
     ]
    }
   ],
   "source": [
    "data = pd.DataFrame()\n",
    "ldate = datetime.date.today() - datetime.timedelta(1)\n",
    "for x in range(ndays):\n",
    "    dt = str(ldate - datetime.timedelta(x))\n",
    "    url = \"http://archive.madflex.de/{dt}/{dt}_ppd42ns_sensor_{sensor_id}.csv\".format(dt=dt, sensor_id=sensor_id)\n",
    "    print(url)\n",
    "    r = requests.get(url)\n",
    "    data = data.append(pd.read_csv(StringIO(r.text), delimiter=';'))"
   ]
  },
  {
   "cell_type": "code",
   "execution_count": 4,
   "metadata": {
    "collapsed": false
   },
   "outputs": [
    {
     "data": {
      "text/html": [
       "<div>\n",
       "<table border=\"1\" class=\"dataframe\">\n",
       "  <thead>\n",
       "    <tr style=\"text-align: right;\">\n",
       "      <th></th>\n",
       "      <th>sensor_id</th>\n",
       "      <th>sensor_type</th>\n",
       "      <th>location</th>\n",
       "      <th>lat</th>\n",
       "      <th>lon</th>\n",
       "      <th>timestamp</th>\n",
       "      <th>P1</th>\n",
       "      <th>durP1</th>\n",
       "      <th>ratioP1</th>\n",
       "      <th>P2</th>\n",
       "      <th>durP2</th>\n",
       "      <th>ratioP2</th>\n",
       "    </tr>\n",
       "  </thead>\n",
       "  <tbody>\n",
       "    <tr>\n",
       "      <th>0</th>\n",
       "      <td>61</td>\n",
       "      <td>PPD42NS</td>\n",
       "      <td>28</td>\n",
       "      <td>48.777</td>\n",
       "      <td>9.235</td>\n",
       "      <td>2016-01-06T00:00:12.205382+00:00</td>\n",
       "      <td>0.62</td>\n",
       "      <td>0</td>\n",
       "      <td>0.00</td>\n",
       "      <td>0.62</td>\n",
       "      <td>0</td>\n",
       "      <td>0.00</td>\n",
       "    </tr>\n",
       "    <tr>\n",
       "      <th>1</th>\n",
       "      <td>61</td>\n",
       "      <td>PPD42NS</td>\n",
       "      <td>28</td>\n",
       "      <td>48.777</td>\n",
       "      <td>9.235</td>\n",
       "      <td>2016-01-06T00:00:43.100229+00:00</td>\n",
       "      <td>16.49</td>\n",
       "      <td>9157</td>\n",
       "      <td>0.03</td>\n",
       "      <td>0.62</td>\n",
       "      <td>0</td>\n",
       "      <td>0.00</td>\n",
       "    </tr>\n",
       "    <tr>\n",
       "      <th>2</th>\n",
       "      <td>61</td>\n",
       "      <td>PPD42NS</td>\n",
       "      <td>28</td>\n",
       "      <td>48.777</td>\n",
       "      <td>9.235</td>\n",
       "      <td>2016-01-06T00:01:21.079705+00:00</td>\n",
       "      <td>190.50</td>\n",
       "      <td>109810</td>\n",
       "      <td>0.37</td>\n",
       "      <td>6.50</td>\n",
       "      <td>3391</td>\n",
       "      <td>0.01</td>\n",
       "    </tr>\n",
       "  </tbody>\n",
       "</table>\n",
       "</div>"
      ],
      "text/plain": [
       "   sensor_id sensor_type  location     lat    lon  \\\n",
       "0         61     PPD42NS        28  48.777  9.235   \n",
       "1         61     PPD42NS        28  48.777  9.235   \n",
       "2         61     PPD42NS        28  48.777  9.235   \n",
       "\n",
       "                          timestamp      P1   durP1  ratioP1    P2  durP2  \\\n",
       "0  2016-01-06T00:00:12.205382+00:00    0.62       0     0.00  0.62      0   \n",
       "1  2016-01-06T00:00:43.100229+00:00   16.49    9157     0.03  0.62      0   \n",
       "2  2016-01-06T00:01:21.079705+00:00  190.50  109810     0.37  6.50   3391   \n",
       "\n",
       "   ratioP2  \n",
       "0     0.00  \n",
       "1     0.00  \n",
       "2     0.01  "
      ]
     },
     "execution_count": 4,
     "metadata": {},
     "output_type": "execute_result"
    }
   ],
   "source": [
    "data[:3]"
   ]
  },
  {
   "cell_type": "code",
   "execution_count": 5,
   "metadata": {
    "collapsed": false
   },
   "outputs": [],
   "source": [
    "plt.rcParams['figure.figsize'] = (10.0, 8.0)"
   ]
  },
  {
   "cell_type": "code",
   "execution_count": 6,
   "metadata": {
    "collapsed": false
   },
   "outputs": [],
   "source": [
    "data['dt'] = data.apply(lambda row: datetime.datetime.strptime(row.timestamp[:-6], \"%Y-%m-%dT%H:%M:%S.%f\"),axis=1)"
   ]
  },
  {
   "cell_type": "code",
   "execution_count": 7,
   "metadata": {
    "collapsed": false
   },
   "outputs": [
    {
     "data": {
      "text/plain": [
       "[<matplotlib.lines.Line2D at 0x7f4ae206b198>]"
      ]
     },
     "execution_count": 7,
     "metadata": {},
     "output_type": "execute_result"
    },
    {
     "data": {
      "image/png": "[encoded data removed]",
      "text/plain": [
       "<matplotlib.figure.Figure at 0x7f4ae306f3c8>"
      ]
     },
     "metadata": {},
     "output_type": "display_data"
    }
   ],
   "source": [
    "plt.plot(data.dt, data.P2, '.')"
   ]
  },
  {
   "cell_type": "code",
   "execution_count": 8,
   "metadata": {
    "collapsed": false
   },
   "outputs": [
    {
     "data": {
      "text/plain": [
       "[<matplotlib.lines.Line2D at 0x7f4ae250f6a0>]"
      ]
     },
     "execution_count": 8,
     "metadata": {},
     "output_type": "execute_result"
    },
    {
     "data": {
      "image/png": "[encoded data removed]",
      "text/plain": [
       "<matplotlib.figure.Figure at 0x7f4ae2546908>"
      ]
     },
     "metadata": {},
     "output_type": "display_data"
    }
   ],
   "source": [
    "plt.plot(data.dt, data.P1, '.')"
   ]
  },
  {
   "cell_type": "code",
   "execution_count": null,
   "metadata": {
    "collapsed": true
   },
   "outputs": [],
   "source": []
  }
 ],
 "metadata": {
  "kernelspec": {
   "display_name": "Python 3",
   "language": "python",
   "name": "python3"
  },
  "language_info": {
   "codemirror_mode": {
    "name": "ipython",
    "version": 3
   },
   "file_extension": ".py",
   "mimetype": "text/x-python",
   "name": "python",
   "nbconvert_exporter": "python",
   "pygments_lexer": "ipython3",
   "version": "3.4.3"
  }
 },
 "nbformat": 4,
 "nbformat_minor": 0
}
